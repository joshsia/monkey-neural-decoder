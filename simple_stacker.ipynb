{
 "cells": [
  {
   "cell_type": "code",
   "execution_count": 1,
   "id": "4228c1d8-8958-4c95-b795-34893fa7e9b9",
   "metadata": {},
   "outputs": [],
   "source": [
    "import numpy as np\n",
    "import pandas as pd\n",
    "import pickle\n",
    "import matplotlib.pyplot as plt\n",
    "\n",
    "import torch\n",
    "from torch import nn, optim\n",
    "from torchvision import transforms, utils\n",
    "from torch.utils.data import TensorDataset, DataLoader\n",
    "import time\n",
    "\n",
    "from sklearn.linear_model import LogisticRegression\n",
    "from sklearn.model_selection import (\n",
    "    train_test_split,\n",
    "    cross_validate,\n",
    "    RandomizedSearchCV\n",
    ")\n",
    "from sklearn.pipeline import Pipeline, make_pipeline\n",
    "from sklearn.preprocessing import StandardScaler\n",
    "from sklearn.multiclass import OneVsOneClassifier\n",
    "from scipy.stats import loguniform, randint\n",
    "\n",
    "%matplotlib inline"
   ]
  },
  {
   "cell_type": "code",
   "execution_count": 2,
   "id": "15df9db1-c887-4a78-9de1-f848c0f224f4",
   "metadata": {},
   "outputs": [],
   "source": [
    "with open(\"data/processed/training_data.pickle\", \"rb\") as f:\n",
    "    training_data = pickle.load(f)\n",
    "\n",
    "with open(\"data/processed/training_arm.pickle\", \"rb\") as f:\n",
    "    training_arm = pickle.load(f)\n",
    "\n",
    "with open(\"data/processed/mean_trajectory.pickle\", \"rb\") as f:\n",
    "    mean_trajectory = pickle.load(f)\n",
    "\n",
    "with open(\"trained_models/lr.pickle\", \"rb\") as f:\n",
    "    lr = pickle.load(f)"
   ]
  },
  {
   "cell_type": "code",
   "execution_count": 3,
   "id": "606ae744-c188-42b2-9ad3-ccce86a7e98a",
   "metadata": {},
   "outputs": [
    {
     "data": {
      "text/plain": [
       "<All keys matched successfully>"
      ]
     },
     "execution_count": 3,
     "metadata": {},
     "output_type": "execute_result"
    }
   ],
   "source": [
    "class NeuralDecoder(nn.Module):\n",
    "    def __init__(self, input_size, output_size):\n",
    "        super().__init__()\n",
    "        self.main = nn.Sequential(\n",
    "            nn.Linear(input_size, 500),\n",
    "            nn.ReLU(),\n",
    "            nn.Linear(500, 1_000),\n",
    "            nn.ReLU(),\n",
    "            nn.Linear(1_000, 5_000),\n",
    "            nn.ReLU(),\n",
    "            nn.Linear(5_000, 10_000),\n",
    "            nn.ReLU(),\n",
    "            nn.Linear(10_000, 15_000),\n",
    "            nn.ReLU(),\n",
    "            nn.Linear(15_000, 10_000),\n",
    "            nn.ReLU(),\n",
    "            nn.Linear(10_000, 5_000),\n",
    "            nn.ReLU(),\n",
    "            nn.Linear(5_000, output_size)\n",
    "        )\n",
    "\n",
    "    def forward(self, x):\n",
    "        out = self.main(x)\n",
    "        return out\n",
    "\n",
    "\n",
    "device = torch.device('cuda' if torch.cuda.is_available() else 'cpu')\n",
    "nn = NeuralDecoder(input_size=297, output_size=3_000)\n",
    "nn.load_state_dict(torch.load(\"trained_models/trained_nn.pt\",\n",
    "                              map_location=device))"
   ]
  },
  {
   "cell_type": "code",
   "execution_count": 4,
   "id": "c7ac2112-92c2-4652-b08e-275a1ac49244",
   "metadata": {},
   "outputs": [
    {
     "data": {
      "text/plain": [
       "(40000, 3298)"
      ]
     },
     "execution_count": 4,
     "metadata": {},
     "output_type": "execute_result"
    }
   ],
   "source": [
    "data = np.concatenate((training_data, training_arm), axis=1)\n",
    "data.shape"
   ]
  },
  {
   "cell_type": "code",
   "execution_count": 5,
   "id": "866f882f-7406-4bab-9a87-91c67dff937d",
   "metadata": {},
   "outputs": [
    {
     "name": "stdout",
     "output_type": "stream",
     "text": [
      "(28000, 297)\n",
      "(28000,)\n",
      "(28000, 3000)\n"
     ]
    }
   ],
   "source": [
    "X_train, X_test, y_train_arm, y_test_arm = train_test_split(\n",
    "    data[:, :297], data[:, 297:],\n",
    "    test_size=0.3, random_state=2022\n",
    ")\n",
    "\n",
    "y_train = y_train_arm[:, 0]\n",
    "y_test = y_test_arm[:, 0]\n",
    "\n",
    "arm_train = y_train_arm[:, 1:]\n",
    "arm_test = y_test_arm[:, 1:]\n",
    "\n",
    "print(X_train.shape)\n",
    "print(y_train.shape)\n",
    "print(arm_train.shape)"
   ]
  },
  {
   "cell_type": "code",
   "execution_count": 6,
   "id": "ecf6e69a-50a1-4b4a-9e3f-d76d90652cfc",
   "metadata": {},
   "outputs": [
    {
     "data": {
      "text/plain": [
       "(12000,)"
      ]
     },
     "execution_count": 6,
     "metadata": {},
     "output_type": "execute_result"
    }
   ],
   "source": [
    "# Classifier\n",
    "output_lr = lr.predict(X_test)\n",
    "output_lr.shape"
   ]
  },
  {
   "cell_type": "code",
   "execution_count": 7,
   "id": "b6c2ec42-0788-4179-9319-c21fd8881b72",
   "metadata": {},
   "outputs": [],
   "source": [
    "# If classifier predicted 1, 2, 3 or 4, use NN instead\n",
    "# If classifier predicted 6, 7, use classifier\n",
    "# If classifier predicted 5, 8, average mean and NN\n",
    "\n",
    "prediction = np.zeros(arm_test.shape)\n",
    "\n",
    "for idx, i in enumerate(output_lr):\n",
    "    if (i < 5):\n",
    "        prediction[idx, :] = nn(torch.Tensor(X_test[idx, :])).detach().numpy()\n",
    "    elif (i == 6 or i == 7):\n",
    "        prediction[idx, :] = mean_trajectory[f\"dir_{int(i)}\"]\n",
    "    else:\n",
    "        prediction[idx, :] = (\n",
    "            nn(torch.Tensor(X_test[idx, :])).detach().numpy() +\n",
    "            mean_trajectory[f\"dir_{int(i)}\"]) / 2"
   ]
  },
  {
   "cell_type": "code",
   "execution_count": 8,
   "id": "ece1b0f4-0b6f-4b8a-a440-fefcd453e35a",
   "metadata": {},
   "outputs": [
    {
     "name": "stdout",
     "output_type": "stream",
     "text": [
      "41.828833693768324\n"
     ]
    }
   ],
   "source": [
    "rmse = np.sqrt(np.mean((arm_test - prediction)**2))\n",
    "print(rmse)"
   ]
  },
  {
   "cell_type": "code",
   "execution_count": 9,
   "id": "07d00505-902f-45b8-a4aa-724101c94b5b",
   "metadata": {},
   "outputs": [
    {
     "data": {
      "image/png": "[encoded data removed]",
      "text/plain": [
       "<Figure size 432x288 with 2 Axes>"
      ]
     },
     "metadata": {
      "needs_background": "light"
     },
     "output_type": "display_data"
    }
   ],
   "source": [
    "good_examples = 0\n",
    "bad_examples = 0\n",
    "\n",
    "ax_good = plt.subplot(121)\n",
    "ax_bad = plt.subplot(122)\n",
    "\n",
    "for idx in range(X_test.shape[0]):\n",
    "    if good_examples < 30 and bad_examples < 30:\n",
    "        pred = prediction[idx, :]\n",
    "        actual = arm_test[idx, :]\n",
    "        rmse = np.sqrt(np.mean((pred - actual)**2))\n",
    "        if rmse < 5:\n",
    "            good_examples += 1\n",
    "            ax_good.plot(actual[:1000], actual[1000:2000], color=\"r\")\n",
    "            ax_good.plot(pred[:1000], pred[1000:2000], color=\"b\")\n",
    "        if rmse > 30:\n",
    "            bad_examples += 1\n",
    "            ax_bad.plot(actual[:1000], actual[1000:2000], color=\"r\")\n",
    "            ax_bad.plot(pred[:1000], pred[1000:2000], color=\"b\")\n",
    "\n",
    "ax_good.title.set_text(\"Good predictions\")\n",
    "ax_bad.title.set_text(\"Bad predictions\")\n",
    "ax_good.set_xlim([-150, 150])\n",
    "ax_good.set_ylim([-100, 100])\n",
    "ax_bad.set_xlim([-150, 150])\n",
    "ax_bad.set_ylim([-100, 100])\n",
    "plt.show()"
   ]
  }
 ],
 "metadata": {
  "kernelspec": {
   "display_name": "Python [conda env:monkey_dec]",
   "language": "python",
   "name": "conda-env-monkey_dec-py"
  },
  "language_info": {
   "codemirror_mode": {
    "name": "ipython",
    "version": 3
   },
   "file_extension": ".py",
   "mimetype": "text/x-python",
   "name": "python",
   "nbconvert_exporter": "python",
   "pygments_lexer": "ipython3",
   "version": "3.9.10"
  }
 },
 "nbformat": 4,
 "nbformat_minor": 5
}
