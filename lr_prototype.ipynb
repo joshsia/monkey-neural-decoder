{
 "cells": [
  {
   "cell_type": "code",
   "execution_count": 1,
   "id": "aa867875-d36a-44ce-93aa-e3489f00d492",
   "metadata": {},
   "outputs": [],
   "source": [
    "import numpy as np\n",
    "import pandas as pd\n",
    "import pickle\n",
    "import matplotlib.pyplot as plt\n",
    "\n",
    "from sklearn.linear_model import LogisticRegression\n",
    "from sklearn.model_selection import (\n",
    "    train_test_split,\n",
    "    cross_validate\n",
    ")\n",
    "from sklearn.pipeline import Pipeline, make_pipeline\n",
    "from sklearn.preprocessing import StandardScaler\n",
    "from sklearn.multiclass import OneVsOneClassifier\n",
    "\n",
    "%matplotlib inline"
   ]
  },
  {
   "cell_type": "code",
   "execution_count": 2,
   "id": "b9cb31e2-5a40-41da-9cdf-fc1e99008225",
   "metadata": {},
   "outputs": [],
   "source": [
    "def mean_std_cross_val_scores(model, X_train, y_train, **kwargs):\n",
    "    \"\"\"\n",
    "    Returns mean and std of cross validation\n",
    "    Parameters\n",
    "    ----------\n",
    "    model :\n",
    "        scikit-learn model\n",
    "    X_train : numpy array or pandas DataFrame\n",
    "        X in the training data\n",
    "    y_train :\n",
    "        y in the training data\n",
    "    Returns\n",
    "    ----------\n",
    "        pandas Series with mean scores from cross_validation\n",
    "    \"\"\"\n",
    "    scores = cross_validate(model, X_train, y_train, **kwargs)\n",
    "    mean_scores = pd.DataFrame(scores).mean()\n",
    "    std_scores = pd.DataFrame(scores).std()\n",
    "    out_col = []\n",
    "    for i in range(len(mean_scores)):\n",
    "        out_col.append(\n",
    "            (f\"%0.3f (+/- %0.3f)\" % (mean_scores[i], std_scores[i]))\n",
    "        )\n",
    "    return pd.Series(data=out_col, index=mean_scores.index)"
   ]
  },
  {
   "cell_type": "code",
   "execution_count": 3,
   "id": "31a70490-e9e3-4dcc-8c68-756def07fa1e",
   "metadata": {},
   "outputs": [],
   "source": [
    "with open(\"data/processed/training_data.pickle\", \"rb\") as f:\n",
    "    training_data = pickle.load(f)\n",
    "\n",
    "with open(\"data/processed/training_arm.pickle\", \"rb\") as f:\n",
    "    training_arm = pickle.load(f)\n",
    "    \n",
    "with open(\"data/processed/mean_trajectory.pickle\", \"rb\") as f:\n",
    "    mean_trajectory = pickle.load(f)"
   ]
  },
  {
   "cell_type": "code",
   "execution_count": 4,
   "id": "630ad84b-5d35-4a7f-b5f6-3da709f51682",
   "metadata": {},
   "outputs": [
    {
     "name": "stdout",
     "output_type": "stream",
     "text": [
      "(40000, 298)\n",
      "(40000, 3000)\n"
     ]
    }
   ],
   "source": [
    "print(training_data.shape)\n",
    "print(training_arm.shape)"
   ]
  },
  {
   "cell_type": "code",
   "execution_count": 5,
   "id": "99b93607-2b9d-466e-af50-016d3df8d838",
   "metadata": {},
   "outputs": [
    {
     "data": {
      "text/plain": [
       "(40000, 3298)"
      ]
     },
     "execution_count": 5,
     "metadata": {},
     "output_type": "execute_result"
    }
   ],
   "source": [
    "data = np.concatenate((training_data, training_arm), axis=1)\n",
    "data.shape"
   ]
  },
  {
   "cell_type": "code",
   "execution_count": 6,
   "id": "8c493956-5315-439c-bc91-ccb849a81b59",
   "metadata": {},
   "outputs": [
    {
     "name": "stdout",
     "output_type": "stream",
     "text": [
      "(28000, 297)\n",
      "(28000,)\n",
      "(28000, 3000)\n"
     ]
    }
   ],
   "source": [
    "X_train, X_test, y_train_arm, y_test_arm = train_test_split(\n",
    "    data[:, :297], data[:, 297:],\n",
    "    test_size=0.3, random_state=2022\n",
    ")\n",
    "\n",
    "y_train = y_train_arm[:, 0]\n",
    "y_test = y_test_arm[:, 0]\n",
    "\n",
    "arm_train = y_train_arm[:, 1:]\n",
    "arm_test = y_test_arm[:, 1:]\n",
    "\n",
    "print(X_train.shape)\n",
    "print(y_train.shape)\n",
    "print(arm_train.shape)"
   ]
  },
  {
   "cell_type": "code",
   "execution_count": 7,
   "id": "fe67d28c-bf72-42fb-8c17-fea5385f573b",
   "metadata": {},
   "outputs": [
    {
     "data": {
      "text/html": [
       "<div>\n",
       "<style scoped>\n",
       "    .dataframe tbody tr th:only-of-type {\n",
       "        vertical-align: middle;\n",
       "    }\n",
       "\n",
       "    .dataframe tbody tr th {\n",
       "        vertical-align: top;\n",
       "    }\n",
       "\n",
       "    .dataframe thead th {\n",
       "        text-align: right;\n",
       "    }\n",
       "</style>\n",
       "<table border=\"1\" class=\"dataframe\">\n",
       "  <thead>\n",
       "    <tr style=\"text-align: right;\">\n",
       "      <th></th>\n",
       "      <th>0</th>\n",
       "    </tr>\n",
       "  </thead>\n",
       "  <tbody>\n",
       "    <tr>\n",
       "      <th>fit_time</th>\n",
       "      <td>4.539 (+/- 0.214)</td>\n",
       "    </tr>\n",
       "    <tr>\n",
       "      <th>score_time</th>\n",
       "      <td>0.053 (+/- 0.006)</td>\n",
       "    </tr>\n",
       "    <tr>\n",
       "      <th>test_score</th>\n",
       "      <td>0.978 (+/- 0.001)</td>\n",
       "    </tr>\n",
       "    <tr>\n",
       "      <th>train_score</th>\n",
       "      <td>0.995 (+/- 0.000)</td>\n",
       "    </tr>\n",
       "  </tbody>\n",
       "</table>\n",
       "</div>"
      ],
      "text/plain": [
       "                             0\n",
       "fit_time     4.539 (+/- 0.214)\n",
       "score_time   0.053 (+/- 0.006)\n",
       "test_score   0.978 (+/- 0.001)\n",
       "train_score  0.995 (+/- 0.000)"
      ]
     },
     "execution_count": 7,
     "metadata": {},
     "output_type": "execute_result"
    }
   ],
   "source": [
    "lr_pipe = make_pipeline(\n",
    "    StandardScaler(),\n",
    "    OneVsOneClassifier(LogisticRegression(max_iter=2000))\n",
    ")\n",
    "\n",
    "results_lr = mean_std_cross_val_scores(\n",
    "    lr_pipe, X_train, y_train, return_train_score=True\n",
    ")\n",
    "\n",
    "pd.DataFrame(results_lr)"
   ]
  },
  {
   "cell_type": "code",
   "execution_count": 8,
   "id": "d92e7876-c9f5-4478-b95b-3a02ce8e8fa2",
   "metadata": {},
   "outputs": [
    {
     "name": "stdout",
     "output_type": "stream",
     "text": [
      "0.9934642857142857\n",
      "0.9805\n"
     ]
    }
   ],
   "source": [
    "lr_pipe.fit(X_train, y_train)\n",
    "print(lr_pipe.score(X_train, y_train))\n",
    "print(lr_pipe.score(X_test, y_test))"
   ]
  },
  {
   "cell_type": "code",
   "execution_count": 9,
   "id": "11c5f743-999a-4c61-95dc-2b5fc0b9ffc6",
   "metadata": {},
   "outputs": [
    {
     "data": {
      "text/plain": [
       "(12000,)"
      ]
     },
     "execution_count": 9,
     "metadata": {},
     "output_type": "execute_result"
    }
   ],
   "source": [
    "predictions = lr_pipe.predict(X_test)\n",
    "predictions.shape"
   ]
  },
  {
   "cell_type": "code",
   "execution_count": 13,
   "id": "816beaf9-98c7-4fa8-8c6a-c50f33304f44",
   "metadata": {},
   "outputs": [
    {
     "name": "stdout",
     "output_type": "stream",
     "text": [
      "RMSE = 53.08746124272516\n",
      "Accuracy = 98.05\n"
     ]
    }
   ],
   "source": [
    "RMSE = 0\n",
    "for idx, i in enumerate(predictions):\n",
    "    predicted_trajectory = mean_trajectory[f\"dir_{int(i)}\"]\n",
    "    actual_trajectory = arm_test[idx, :]\n",
    "    RMSE = (RMSE + \n",
    "            (1 / predictions.shape[0]) * \n",
    "            np.sqrt(np.mean(\n",
    "                (actual_trajectory - predicted_trajectory)**2))\n",
    "           )\n",
    "\n",
    "print(f\"RMSE = {RMSE}\")\n",
    "print(f\"Accuracy = {100 * sum(predictions == y_test) / y_test.shape[0]}\")"
   ]
  },
  {
   "cell_type": "code",
   "execution_count": 14,
   "id": "018c3f1f-8753-433c-b215-40566eaecb45",
   "metadata": {},
   "outputs": [
    {
     "data": {
      "image/png": "[encoded data removed]",
      "text/plain": [
       "<Figure size 432x432 with 1 Axes>"
      ]
     },
     "metadata": {
      "needs_background": "light"
     },
     "output_type": "display_data"
    },
    {
     "name": "stdout",
     "output_type": "stream",
     "text": [
      "11766\n"
     ]
    }
   ],
   "source": [
    "fig, ax = plt.subplots(figsize=(6, 6))\n",
    "for i in range(predictions.shape[0]):\n",
    "    if not(int(predictions[i]) == y_test[i]):\n",
    "        predicted_trajectory = mean_trajectory[f\"dir_{int(predictions[i])}\"]\n",
    "        actual_trajectory = arm_test[i, :]\n",
    "        ax.plot(actual_trajectory[:1000], actual_trajectory[1000:2000],\n",
    "                color=\"r\", label=f\"A{i}\")\n",
    "        ax.plot(predicted_trajectory[:1000], predicted_trajectory[1000:2000],\n",
    "                color=\"b\", label=f\"P{i}\")\n",
    "# ax.legend(loc=\"center left\", bbox_to_anchor=(1, 0.5))\n",
    "plt.show()\n",
    "\n",
    "print(sum(predictions == y_test))"
   ]
  },
  {
   "cell_type": "code",
   "execution_count": null,
   "id": "fddf31e2-f0bd-4cb6-ac64-14bf336ac2cb",
   "metadata": {},
   "outputs": [],
   "source": []
  }
 ],
 "metadata": {
  "kernelspec": {
   "display_name": "Python [conda env:monkey_dec]",
   "language": "python",
   "name": "conda-env-monkey_dec-py"
  },
  "language_info": {
   "codemirror_mode": {
    "name": "ipython",
    "version": 3
   },
   "file_extension": ".py",
   "mimetype": "text/x-python",
   "name": "python",
   "nbconvert_exporter": "python",
   "pygments_lexer": "ipython3",
   "version": "3.9.10"
  }
 },
 "nbformat": 4,
 "nbformat_minor": 5
}
