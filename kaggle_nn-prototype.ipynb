{
 "cells": [
  {
   "cell_type": "code",
   "execution_count": 19,
   "metadata": {
    "execution": {
     "iopub.execute_input": "2022-02-06T03:03:12.916649Z",
     "iopub.status.busy": "2022-02-06T03:03:12.916314Z",
     "iopub.status.idle": "2022-02-06T03:03:12.924102Z",
     "shell.execute_reply": "2022-02-06T03:03:12.923275Z",
     "shell.execute_reply.started": "2022-02-06T03:03:12.916610Z"
    }
   },
   "outputs": [],
   "source": [
    "# This notebook was run on Kaggle to make use of GPU\n",
    "\n",
    "import numpy as np\n",
    "import pandas as pd\n",
    "import pickle\n",
    "import matplotlib.pyplot as plt\n",
    "import torch\n",
    "from torch import nn, optim\n",
    "from torchvision import transforms, utils\n",
    "from torch.utils.data import TensorDataset, DataLoader\n",
    "import time\n",
    "\n",
    "from sklearn.model_selection import train_test_split\n",
    "\n",
    "%matplotlib inline"
   ]
  },
  {
   "cell_type": "code",
   "execution_count": 20,
   "metadata": {
    "execution": {
     "iopub.execute_input": "2022-02-06T03:03:12.926912Z",
     "iopub.status.busy": "2022-02-06T03:03:12.926306Z",
     "iopub.status.idle": "2022-02-06T03:03:14.323303Z",
     "shell.execute_reply": "2022-02-06T03:03:14.322518Z",
     "shell.execute_reply.started": "2022-02-06T03:03:12.926874Z"
    }
   },
   "outputs": [],
   "source": [
    "with open(\"../input/monkeyspikes/training_data.pickle\", \"rb\") as f:\n",
    "    training_data = pickle.load(f)\n",
    "\n",
    "with open(\"../input/monkeyspikes/training_arm.pickle\", \"rb\") as f:\n",
    "    training_arm = pickle.load(f)\n",
    "    \n",
    "with open(\"../input/monkeyspikes/mean_trajectory.pickle\", \"rb\") as f:\n",
    "    mean_trajectory = pickle.load(f)"
   ]
  },
  {
   "cell_type": "code",
   "execution_count": 21,
   "metadata": {
    "execution": {
     "iopub.execute_input": "2022-02-06T03:03:14.326795Z",
     "iopub.status.busy": "2022-02-06T03:03:14.326588Z",
     "iopub.status.idle": "2022-02-06T03:03:14.332772Z",
     "shell.execute_reply": "2022-02-06T03:03:14.332120Z",
     "shell.execute_reply.started": "2022-02-06T03:03:14.326769Z"
    }
   },
   "outputs": [],
   "source": [
    "device = torch.device('cuda' if torch.cuda.is_available() else 'cpu')"
   ]
  },
  {
   "cell_type": "code",
   "execution_count": 22,
   "metadata": {
    "execution": {
     "iopub.execute_input": "2022-02-06T03:03:14.335099Z",
     "iopub.status.busy": "2022-02-06T03:03:14.334538Z",
     "iopub.status.idle": "2022-02-06T03:03:14.736673Z",
     "shell.execute_reply": "2022-02-06T03:03:14.735973Z",
     "shell.execute_reply.started": "2022-02-06T03:03:14.335062Z"
    }
   },
   "outputs": [
    {
     "data": {
      "text/plain": [
       "(40000, 3298)"
      ]
     },
     "execution_count": 22,
     "metadata": {},
     "output_type": "execute_result"
    }
   ],
   "source": [
    "data = np.concatenate((training_data, training_arm), axis=1)\n",
    "data.shape"
   ]
  },
  {
   "cell_type": "code",
   "execution_count": 23,
   "metadata": {
    "execution": {
     "iopub.execute_input": "2022-02-06T03:03:14.738280Z",
     "iopub.status.busy": "2022-02-06T03:03:14.737855Z",
     "iopub.status.idle": "2022-02-06T03:03:15.392628Z",
     "shell.execute_reply": "2022-02-06T03:03:15.391868Z",
     "shell.execute_reply.started": "2022-02-06T03:03:14.738241Z"
    }
   },
   "outputs": [],
   "source": [
    "BATCH_SIZE = 24\n",
    "\n",
    "X_train, X_test, y_train_arm, y_test_arm = train_test_split(\n",
    "    data[:, :297], data[:, 297:],\n",
    "    test_size=0.3, random_state=2022\n",
    ")\n",
    "\n",
    "y_train = y_train_arm[:, 0]\n",
    "y_test = y_test_arm[:, 0]\n",
    "\n",
    "arm_train = y_train_arm[:, 1:]\n",
    "arm_test = y_test_arm[:, 1:]\n",
    "\n",
    "train_dataset = TensorDataset(torch.Tensor(X_train), torch.Tensor(arm_train))\n",
    "valid_dataset = TensorDataset(torch.Tensor(X_test), torch.Tensor(arm_test))\n",
    "\n",
    "train_dataloader = DataLoader(train_dataset, batch_size=BATCH_SIZE, shuffle=True)\n",
    "valid_dataloader = DataLoader(valid_dataset, batch_size=BATCH_SIZE, shuffle=True)"
   ]
  },
  {
   "cell_type": "code",
   "execution_count": 24,
   "metadata": {
    "execution": {
     "iopub.execute_input": "2022-02-06T03:03:15.394317Z",
     "iopub.status.busy": "2022-02-06T03:03:15.394030Z",
     "iopub.status.idle": "2022-02-06T03:03:15.403827Z",
     "shell.execute_reply": "2022-02-06T03:03:15.403069Z",
     "shell.execute_reply.started": "2022-02-06T03:03:15.394281Z"
    }
   },
   "outputs": [
    {
     "name": "stdout",
     "output_type": "stream",
     "text": [
      "torch.Size([24, 297])\n",
      "torch.Size([24, 3000])\n"
     ]
    }
   ],
   "source": [
    "X, y = next(iter(train_dataloader))\n",
    "print(X.shape)\n",
    "print(y.shape)"
   ]
  },
  {
   "cell_type": "code",
   "execution_count": 25,
   "metadata": {
    "execution": {
     "iopub.execute_input": "2022-02-06T03:03:15.405844Z",
     "iopub.status.busy": "2022-02-06T03:03:15.405524Z",
     "iopub.status.idle": "2022-02-06T03:03:15.419135Z",
     "shell.execute_reply": "2022-02-06T03:03:15.418388Z",
     "shell.execute_reply.started": "2022-02-06T03:03:15.405819Z"
    }
   },
   "outputs": [],
   "source": [
    "class NeuralDecoder(nn.Module):\n",
    "    def __init__(self, input_size, output_size):\n",
    "        super().__init__()\n",
    "        self.main = nn.Sequential(\n",
    "            nn.Linear(input_size, 500),\n",
    "            nn.ReLU(),\n",
    "            nn.Linear(500, 1_000),\n",
    "            nn.ReLU(),\n",
    "            nn.Linear(1_000, 5_000),\n",
    "            nn.ReLU(),\n",
    "            nn.Linear(5_000, 10_000),\n",
    "            nn.ReLU(),\n",
    "            nn.Linear(10_000, 15_000),\n",
    "            nn.ReLU(),\n",
    "            nn.Linear(15_000, 10_000),\n",
    "            nn.ReLU(),\n",
    "            nn.Linear(10_000, 5_000),\n",
    "            nn.ReLU(),\n",
    "            nn.Linear(5_000, output_size)\n",
    "        )\n",
    "\n",
    "    def forward(self, x):\n",
    "        out = self.main(x)\n",
    "        return out\n",
    "\n",
    "\n",
    "def trainer(model, criterion, optimizer, trainloader, validloader, epochs=50, verbose=True):\n",
    "    \"\"\"Simple training wrapper for PyTorch network.\"\"\"\n",
    "    \n",
    "    train_loss = []\n",
    "    valid_loss = []\n",
    "    for epoch in range(epochs):\n",
    "        losses = 0\n",
    "        for X, y in trainloader:\n",
    "            X, y = X.to(device), y.to(device)\n",
    "            optimizer.zero_grad()       # Clear gradients w.r.t. parameters\n",
    "            y_hat = model(X.reshape(X.shape[0], -1))\n",
    "            loss = criterion(y_hat, y)  # Calculate loss\n",
    "            loss.backward()             # Getting gradients w.r.t. parameters\n",
    "            optimizer.step()            # Update parameters\n",
    "            losses += loss.item()       # Add loss for this batch to running total\n",
    "        train_loss.append(losses / len(trainloader))\n",
    "            \n",
    "        # Validation\n",
    "        model.eval()\n",
    "        valid_losses = 0\n",
    "        with torch.no_grad():\n",
    "            for X, y in validloader:\n",
    "                X, y = X.to(device), y.to(device)\n",
    "                y_hat = model(X)\n",
    "                loss = criterion(y_hat, y)\n",
    "                valid_losses += loss.item()\n",
    "        valid_loss.append(valid_losses / len(validloader))\n",
    "        \n",
    "#         if verbose and (epoch % 5 == 0):\n",
    "        if verbose:\n",
    "            print(f\"Epoch: {epoch + 1}, \"\n",
    "                  f\"Train loss: {losses / len(trainloader):.2f}, \"\n",
    "                  f\"Valid loss: {valid_losses / len(validloader):.2f}\")\n",
    "            \n",
    "    results = {\"train_loss\": train_loss,\n",
    "               \"valid_loss\": valid_loss}\n",
    "    return results"
   ]
  },
  {
   "cell_type": "code",
   "execution_count": 26,
   "metadata": {
    "execution": {
     "iopub.execute_input": "2022-02-06T03:03:15.421083Z",
     "iopub.status.busy": "2022-02-06T03:03:15.420429Z",
     "iopub.status.idle": "2022-02-06T03:39:17.140540Z",
     "shell.execute_reply": "2022-02-06T03:39:17.139787Z",
     "shell.execute_reply.started": "2022-02-06T03:03:15.421046Z"
    }
   },
   "outputs": [
    {
     "name": "stdout",
     "output_type": "stream",
     "text": [
      "03:03:19\n",
      "Epoch: 1, Train loss: 1659.24, Valid loss: 1176.63\n",
      "Epoch: 2, Train loss: 1067.38, Valid loss: 964.14\n",
      "Epoch: 3, Train loss: 951.51, Valid loss: 931.33\n",
      "Epoch: 4, Train loss: 902.84, Valid loss: 1014.76\n",
      "Epoch: 5, Train loss: 864.50, Valid loss: 838.92\n",
      "Epoch: 6, Train loss: 844.14, Valid loss: 887.05\n",
      "Epoch: 7, Train loss: 822.53, Valid loss: 931.35\n",
      "Epoch: 8, Train loss: 806.81, Valid loss: 823.22\n",
      "Epoch: 9, Train loss: 793.24, Valid loss: 804.43\n",
      "Epoch: 10, Train loss: 780.31, Valid loss: 944.74\n",
      "Epoch: 11, Train loss: 770.70, Valid loss: 815.95\n",
      "Epoch: 12, Train loss: 758.65, Valid loss: 798.31\n",
      "Epoch: 13, Train loss: 754.04, Valid loss: 790.12\n",
      "Epoch: 14, Train loss: 746.75, Valid loss: 779.58\n",
      "Epoch: 15, Train loss: 739.91, Valid loss: 808.60\n",
      "Epoch: 16, Train loss: 736.20, Valid loss: 784.34\n",
      "Epoch: 17, Train loss: 730.93, Valid loss: 778.47\n",
      "Epoch: 18, Train loss: 721.84, Valid loss: 769.82\n",
      "Epoch: 19, Train loss: 718.69, Valid loss: 794.38\n",
      "Epoch: 20, Train loss: 714.98, Valid loss: 809.27\n",
      "Epoch: 21, Train loss: 712.80, Valid loss: 773.44\n",
      "Epoch: 22, Train loss: 703.65, Valid loss: 768.64\n",
      "Epoch: 23, Train loss: 703.44, Valid loss: 780.94\n",
      "Epoch: 24, Train loss: 698.13, Valid loss: 779.53\n",
      "Epoch: 25, Train loss: 693.15, Valid loss: 764.92\n",
      "Epoch: 26, Train loss: 696.89, Valid loss: 774.46\n",
      "Epoch: 27, Train loss: 693.65, Valid loss: 767.72\n",
      "Epoch: 28, Train loss: 691.06, Valid loss: 780.17\n",
      "Epoch: 29, Train loss: 687.20, Valid loss: 803.56\n",
      "Epoch: 30, Train loss: 688.62, Valid loss: 776.69\n",
      "Epoch: 31, Train loss: 683.05, Valid loss: 782.98\n",
      "Epoch: 32, Train loss: 678.53, Valid loss: 768.61\n",
      "Epoch: 33, Train loss: 679.25, Valid loss: 760.32\n",
      "Epoch: 34, Train loss: 675.38, Valid loss: 770.24\n",
      "Epoch: 35, Train loss: 673.95, Valid loss: 773.98\n",
      "Epoch: 36, Train loss: 671.97, Valid loss: 780.08\n",
      "Epoch: 37, Train loss: 670.71, Valid loss: 767.79\n",
      "Epoch: 38, Train loss: 669.59, Valid loss: 769.78\n",
      "Epoch: 39, Train loss: 670.08, Valid loss: 779.06\n",
      "Epoch: 40, Train loss: 667.82, Valid loss: 760.34\n",
      "Epoch: 41, Train loss: 666.67, Valid loss: 780.88\n",
      "Epoch: 42, Train loss: 664.74, Valid loss: 770.73\n",
      "Epoch: 43, Train loss: 665.22, Valid loss: 759.18\n",
      "Epoch: 44, Train loss: 662.95, Valid loss: 762.54\n",
      "Epoch: 45, Train loss: 662.12, Valid loss: 763.77\n",
      "Epoch: 46, Train loss: 662.11, Valid loss: 771.67\n",
      "Epoch: 47, Train loss: 662.68, Valid loss: 767.63\n",
      "Epoch: 48, Train loss: 660.94, Valid loss: 768.76\n",
      "Epoch: 49, Train loss: 660.09, Valid loss: 762.42\n",
      "Epoch: 50, Train loss: 658.25, Valid loss: 759.71\n",
      "03:39:17\n"
     ]
    }
   ],
   "source": [
    "torch.manual_seed(2022)\n",
    "\n",
    "model = NeuralDecoder(input_size=297, output_size=3_000)\n",
    "model.to(device);\n",
    "\n",
    "criterion = nn.MSELoss()\n",
    "optimizer = torch.optim.SGD(model.parameters(), lr=1e-4)\n",
    "\n",
    "print(time.strftime(\"%H:%M:%S\", time.localtime()))\n",
    "trainer(model, criterion, optimizer, train_dataloader, valid_dataloader, verbose=True)\n",
    "print(time.strftime(\"%H:%M:%S\", time.localtime()))"
   ]
  },
  {
   "cell_type": "code",
   "execution_count": 36,
   "metadata": {
    "execution": {
     "iopub.execute_input": "2022-02-06T03:53:35.749630Z",
     "iopub.status.busy": "2022-02-06T03:53:35.749322Z",
     "iopub.status.idle": "2022-02-06T03:53:38.842845Z",
     "shell.execute_reply": "2022-02-06T03:53:38.841998Z",
     "shell.execute_reply.started": "2022-02-06T03:53:35.749598Z"
    }
   },
   "outputs": [
    {
     "data": {
      "image/png": "[encoded data removed]",
      "text/plain": [
       "<Figure size 432x288 with 2 Axes>"
      ]
     },
     "metadata": {
      "needs_background": "light"
     },
     "output_type": "display_data"
    }
   ],
   "source": [
    "good_examples = 0\n",
    "bad_examples = 0\n",
    "\n",
    "ax_good = plt.subplot(121)\n",
    "ax_bad = plt.subplot(122)\n",
    "\n",
    "for X, y in valid_dataloader:\n",
    "    X, y = X.to(device), y.to(device)\n",
    "    prediction = model(X)\n",
    "\n",
    "    y = y.cpu().detach().numpy()\n",
    "    prediction = prediction.cpu().detach().numpy()\n",
    "    \n",
    "    while good_examples < 10 and bad_examples < 10:\n",
    "        for i in range(X.shape[0]):\n",
    "            rmse = np.sqrt(np.mean((prediction[i, :] - y[i, :])**2))\n",
    "            if rmse < 5:\n",
    "                good_examples += 1\n",
    "                ax_good.plot(y[i, :1000], y[i, 1000:2000], color=\"r\")\n",
    "                ax_good.plot(prediction[i, :1000], prediction[i, 1000:2000], color=\"b\")\n",
    "            if rmse > 30:\n",
    "                bad_examples += 1\n",
    "                ax_bad.plot(y[i, :1000], y[i, 1000:2000], color=\"r\")\n",
    "                ax_bad.plot(prediction[i, :1000], prediction[i, 1000:2000], color=\"b\")\n",
    "\n",
    "ax_good.title.set_text(\"Good predictions\")\n",
    "ax_bad.title.set_text(\"Bad predictions\")\n",
    "ax_good.set_xlim([-150, 150])\n",
    "ax_good.set_ylim([-100, 100])\n",
    "ax_bad.set_xlim([-150, 150])\n",
    "ax_bad.set_ylim([-100, 100])\n",
    "plt.show()"
   ]
  }
 ],
 "metadata": {
  "kernelspec": {
   "display_name": "Python 3",
   "language": "python",
   "name": "python3"
  },
  "language_info": {
   "codemirror_mode": {
    "name": "ipython",
    "version": 3
   },
   "file_extension": ".py",
   "mimetype": "text/x-python",
   "name": "python",
   "nbconvert_exporter": "python",
   "pygments_lexer": "ipython3",
   "version": "3.9.5"
  }
 },
 "nbformat": 4,
 "nbformat_minor": 4
}
