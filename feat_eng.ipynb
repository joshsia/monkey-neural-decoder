{
 "cells": [
  {
   "cell_type": "code",
   "execution_count": 1,
   "id": "7b68a0e4-4cf5-476b-828e-3add8383cd33",
   "metadata": {},
   "outputs": [],
   "source": [
    "import numpy as np\n",
    "import pickle"
   ]
  },
  {
   "cell_type": "code",
   "execution_count": 2,
   "id": "20d78e79-670e-41ee-83df-ead6ff8eb19c",
   "metadata": {},
   "outputs": [],
   "source": [
    "with open(\"data/processed/spike_data.pickle\", \"rb\") as f:\n",
    "    spikes_data = pickle.load(f)\n",
    "\n",
    "with open(\"data/processed/arm_data.pickle\", \"rb\") as f:\n",
    "    arm_data = pickle.load(f)"
   ]
  },
  {
   "cell_type": "code",
   "execution_count": 4,
   "id": "80baec84-8e36-4070-b1c7-1b9952c674c3",
   "metadata": {},
   "outputs": [],
   "source": [
    "max_time = 1000\n",
    "trials = 100\n",
    "pre_movement = 300\n",
    "neural_units = 98\n",
    "directions = 8\n",
    "axes = 3\n",
    "t_gap = 20"
   ]
  },
  {
   "cell_type": "code",
   "execution_count": 5,
   "id": "22a5d13a-5f23-4b10-aa85-0f042041fc06",
   "metadata": {},
   "outputs": [],
   "source": [
    "training_data = np.zeros(\n",
    "    (directions * trials * int(max_time / t_gap),\n",
    "     3 * neural_units + 3)\n",
    ")"
   ]
  },
  {
   "cell_type": "code",
   "execution_count": 6,
   "id": "88dfb81d-2ac7-4291-ba6f-b9de1d03669a",
   "metadata": {},
   "outputs": [
    {
     "name": "stdout",
     "output_type": "stream",
     "text": [
      "(40000, 297)\n",
      "(800, 98, 1000)\n",
      "(800, 3, 1000)\n"
     ]
    }
   ],
   "source": [
    "# 40,000 observations\n",
    "# 98 columns for firing rate, 98 columns for phase encoding,\n",
    "# 98 columns for firing covariate, 3 columns for previous\n",
    "# arm position\n",
    "print(training_data.shape)\n",
    "\n",
    "print(spikes_data.shape)\n",
    "print(arm_data.shape)"
   ]
  },
  {
   "cell_type": "code",
   "execution_count": 7,
   "id": "fb979752-bbf6-49aa-998d-6683f6221f81",
   "metadata": {},
   "outputs": [
    {
     "data": {
      "text/plain": [
       "(40000, 297)"
      ]
     },
     "execution_count": 7,
     "metadata": {},
     "output_type": "execute_result"
    }
   ],
   "source": [
    "time_knots = range(t_gap, max_time + t_gap, t_gap)\n",
    "\n",
    "for idx, i in enumerate(time_knots):\n",
    "    # First 98 columns of training_data describe firing rate\n",
    "    training_data[\n",
    "        directions * trials * idx:directions * trials * (1 + idx),\n",
    "        :neural_units\n",
    "    ] = np.mean(spikes_data[:, :, :i], axis=2)\n",
    "    # Next 98 columns describe phase encoding\n",
    "    training_data[\n",
    "        directions * trials * idx:directions * trials * (1 + idx),\n",
    "        neural_units:(2 * neural_units)\n",
    "    ] = np.argmax(spikes_data[:, :, :i], axis=2)\n",
    "    # Next 98 columns describe firing rate before movement\n",
    "    training_data[\n",
    "        directions * trials * idx:directions * trials * (1 + idx),\n",
    "        (2 * neural_units):(3 * neural_units)\n",
    "    ] = np.mean(spikes_data[:, :, :min(i, pre_movement)], axis=2)\n",
    "    # Final 3 columns describe arm position at time knots\n",
    "    training_data[\n",
    "        directions * trials * idx:directions * trials * (1 + idx),\n",
    "        (3 * neural_units):\n",
    "    ] = arm_data[:, :, i-1]\n",
    "\n",
    "training_data.shape"
   ]
  },
  {
   "cell_type": "code",
   "execution_count": null,
   "id": "c73717ba-e5cd-4da6-8c58-bd824ee05610",
   "metadata": {},
   "outputs": [],
   "source": [
    "# Add labels for classification"
   ]
  },
  {
   "cell_type": "code",
   "execution_count": null,
   "id": "bdc31b9f-470a-4e1a-8749-2330ee81acf5",
   "metadata": {},
   "outputs": [],
   "source": [
    "# Change save to training_data\n",
    "# out_file = \"data/processed/neural_feats.pickle\"\n",
    "# with open(out_file, \"wb\") as f:\n",
    "#     pickle.dump(neural_feats, f)"
   ]
  }
 ],
 "metadata": {
  "kernelspec": {
   "display_name": "Python 3",
   "language": "python",
   "name": "python3"
  },
  "language_info": {
   "codemirror_mode": {
    "name": "ipython",
    "version": 3
   },
   "file_extension": ".py",
   "mimetype": "text/x-python",
   "name": "python",
   "nbconvert_exporter": "python",
   "pygments_lexer": "ipython3",
   "version": "3.9.5"
  }
 },
 "nbformat": 4,
 "nbformat_minor": 5
}
