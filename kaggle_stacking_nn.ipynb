{
 "cells": [
  {
   "cell_type": "code",
   "execution_count": 1,
   "id": "a71f688a",
   "metadata": {
    "execution": {
     "iopub.execute_input": "2022-02-07T09:26:47.784363Z",
     "iopub.status.busy": "2022-02-07T09:26:47.782743Z",
     "iopub.status.idle": "2022-02-07T09:26:50.212869Z",
     "shell.execute_reply": "2022-02-07T09:26:50.212233Z",
     "shell.execute_reply.started": "2022-02-07T09:16:56.901090Z"
    },
    "papermill": {
     "duration": 2.443334,
     "end_time": "2022-02-07T09:26:50.213067",
     "exception": false,
     "start_time": "2022-02-07T09:26:47.769733",
     "status": "completed"
    },
    "tags": []
   },
   "outputs": [],
   "source": [
    "import numpy as np\n",
    "import pandas as pd\n",
    "import pickle\n",
    "import matplotlib.pyplot as plt\n",
    "import torch\n",
    "from torch import nn, optim\n",
    "from torchvision import transforms, utils\n",
    "from torch.utils.data import TensorDataset, DataLoader\n",
    "import time\n",
    "\n",
    "from sklearn.model_selection import train_test_split\n",
    "\n",
    "%matplotlib inline"
   ]
  },
  {
   "cell_type": "code",
   "execution_count": 2,
   "id": "48a40c1e",
   "metadata": {
    "execution": {
     "iopub.execute_input": "2022-02-07T09:26:50.234004Z",
     "iopub.status.busy": "2022-02-07T09:26:50.233252Z",
     "iopub.status.idle": "2022-02-07T09:27:10.389663Z",
     "shell.execute_reply": "2022-02-07T09:27:10.389204Z",
     "shell.execute_reply.started": "2022-02-07T09:16:56.910483Z"
    },
    "papermill": {
     "duration": 20.168194,
     "end_time": "2022-02-07T09:27:10.389800",
     "exception": false,
     "start_time": "2022-02-07T09:26:50.221606",
     "status": "completed"
    },
    "tags": []
   },
   "outputs": [],
   "source": [
    "with open(\"../input/monkeyspikes/training_arm.pickle\", \"rb\") as f:\n",
    "    training_arm = pickle.load(f)\n",
    "\n",
    "with open(\"../input/monkey-stacking/output_models.pickle\", \"rb\") as f:\n",
    "    output_models = pickle.load(f)"
   ]
  },
  {
   "cell_type": "code",
   "execution_count": 3,
   "id": "ae7ecb1e",
   "metadata": {
    "execution": {
     "iopub.execute_input": "2022-02-07T09:27:10.457355Z",
     "iopub.status.busy": "2022-02-07T09:27:10.456580Z",
     "iopub.status.idle": "2022-02-07T09:27:10.459539Z",
     "shell.execute_reply": "2022-02-07T09:27:10.459016Z",
     "shell.execute_reply.started": "2022-02-07T09:17:14.384018Z"
    },
    "papermill": {
     "duration": 0.062505,
     "end_time": "2022-02-07T09:27:10.459660",
     "exception": false,
     "start_time": "2022-02-07T09:27:10.397155",
     "status": "completed"
    },
    "tags": []
   },
   "outputs": [],
   "source": [
    "device = torch.device('cuda' if torch.cuda.is_available() else 'cpu')"
   ]
  },
  {
   "cell_type": "code",
   "execution_count": 4,
   "id": "a1332641",
   "metadata": {
    "execution": {
     "iopub.execute_input": "2022-02-07T09:27:10.482532Z",
     "iopub.status.busy": "2022-02-07T09:27:10.481996Z",
     "iopub.status.idle": "2022-02-07T09:27:12.316687Z",
     "shell.execute_reply": "2022-02-07T09:27:12.317585Z",
     "shell.execute_reply.started": "2022-02-07T09:17:14.395859Z"
    },
    "papermill": {
     "duration": 1.85089,
     "end_time": "2022-02-07T09:27:12.317852",
     "exception": false,
     "start_time": "2022-02-07T09:27:10.466962",
     "status": "completed"
    },
    "tags": []
   },
   "outputs": [],
   "source": [
    "BATCH_SIZE = 24\n",
    "\n",
    "X_train, X_test, y_train, y_test = train_test_split(\n",
    "    output_models, training_arm,\n",
    "    test_size=0.3, random_state=2022\n",
    ")\n",
    "\n",
    "train_dataset = TensorDataset(torch.Tensor(X_train), torch.Tensor(y_train))\n",
    "valid_dataset = TensorDataset(torch.Tensor(X_test), torch.Tensor(y_test))\n",
    "\n",
    "train_dataloader = DataLoader(train_dataset, batch_size=BATCH_SIZE, shuffle=True)\n",
    "valid_dataloader = DataLoader(valid_dataset, batch_size=BATCH_SIZE, shuffle=True)"
   ]
  },
  {
   "cell_type": "code",
   "execution_count": 5,
   "id": "bed46350",
   "metadata": {
    "execution": {
     "iopub.execute_input": "2022-02-07T09:27:12.355596Z",
     "iopub.status.busy": "2022-02-07T09:27:12.354600Z",
     "iopub.status.idle": "2022-02-07T09:27:12.396259Z",
     "shell.execute_reply": "2022-02-07T09:27:12.397611Z",
     "shell.execute_reply.started": "2022-02-07T09:17:17.710229Z"
    },
    "papermill": {
     "duration": 0.067004,
     "end_time": "2022-02-07T09:27:12.397990",
     "exception": false,
     "start_time": "2022-02-07T09:27:12.330986",
     "status": "completed"
    },
    "tags": []
   },
   "outputs": [
    {
     "name": "stdout",
     "output_type": "stream",
     "text": [
      "torch.Size([24, 6001])\n",
      "torch.Size([24, 3000])\n"
     ]
    }
   ],
   "source": [
    "X, y = next(iter(train_dataloader))\n",
    "print(X.shape)\n",
    "print(y.shape)"
   ]
  },
  {
   "cell_type": "code",
   "execution_count": 6,
   "id": "a0a65e67",
   "metadata": {
    "execution": {
     "iopub.execute_input": "2022-02-07T09:27:12.449984Z",
     "iopub.status.busy": "2022-02-07T09:27:12.449128Z",
     "iopub.status.idle": "2022-02-07T09:27:12.454276Z",
     "shell.execute_reply": "2022-02-07T09:27:12.453635Z",
     "shell.execute_reply.started": "2022-02-07T09:17:17.730769Z"
    },
    "papermill": {
     "duration": 0.035582,
     "end_time": "2022-02-07T09:27:12.454443",
     "exception": false,
     "start_time": "2022-02-07T09:27:12.418861",
     "status": "completed"
    },
    "tags": []
   },
   "outputs": [],
   "source": [
    "class NNStacker(nn.Module):\n",
    "    def __init__(self, input_size, output_size):\n",
    "        super().__init__()\n",
    "        self.main = nn.Sequential(\n",
    "            nn.Linear(input_size, 5_000),\n",
    "            nn.ReLU(),\n",
    "            nn.Linear(5_000, 4_000),\n",
    "            nn.ReLU(),\n",
    "            nn.Linear(4_000, output_size)\n",
    "        )\n",
    "\n",
    "    def forward(self, x):\n",
    "        out = self.main(x)\n",
    "        return out\n",
    "\n",
    "\n",
    "def trainer(model, criterion, optimizer, trainloader, validloader, epochs=15, verbose=True):\n",
    "    \"\"\"Simple training wrapper for PyTorch network.\"\"\"\n",
    "\n",
    "    train_loss = []\n",
    "    valid_loss = []\n",
    "    for epoch in range(epochs):\n",
    "        losses = 0\n",
    "        for X, y in trainloader:\n",
    "            X, y = X.to(device), y.to(device)\n",
    "            optimizer.zero_grad()       # Clear gradients w.r.t. parameters\n",
    "            y_hat = model(X.reshape(X.shape[0], -1))\n",
    "            loss = criterion(y_hat, y)  # Calculate loss\n",
    "            loss.backward()             # Getting gradients w.r.t. parameters\n",
    "            optimizer.step()            # Update parameters\n",
    "            losses += loss.item()       # Add loss for this batch to running total\n",
    "        train_loss.append(losses / len(trainloader))\n",
    "\n",
    "        # Validation\n",
    "        model.eval()\n",
    "        valid_losses = 0\n",
    "        with torch.no_grad():\n",
    "            for X, y in validloader:\n",
    "                X, y = X.to(device), y.to(device)\n",
    "                y_hat = model(X)\n",
    "                loss = criterion(y_hat, y)\n",
    "                valid_losses += loss.item()\n",
    "        valid_loss.append(valid_losses / len(validloader))\n",
    "        \n",
    "        model.train()\n",
    "\n",
    "        if verbose:\n",
    "            print(f\"Epoch: {epoch + 1}, \"\n",
    "                  f\"Train loss: {losses / len(trainloader):.2f}, \"\n",
    "                  f\"Valid loss: {valid_losses / len(validloader):.2f}\")\n",
    "\n",
    "    results = {\"train_loss\": train_loss,\n",
    "               \"valid_loss\": valid_loss}\n",
    "    return results"
   ]
  },
  {
   "cell_type": "code",
   "execution_count": 7,
   "id": "8cef4114",
   "metadata": {
    "execution": {
     "iopub.execute_input": "2022-02-07T09:27:12.494977Z",
     "iopub.status.busy": "2022-02-07T09:27:12.494141Z",
     "iopub.status.idle": "2022-02-07T09:31:51.519341Z",
     "shell.execute_reply": "2022-02-07T09:31:51.518702Z",
     "shell.execute_reply.started": "2022-02-07T09:17:17.744806Z"
    },
    "papermill": {
     "duration": 279.046608,
     "end_time": "2022-02-07T09:31:51.519515",
     "exception": false,
     "start_time": "2022-02-07T09:27:12.472907",
     "status": "completed"
    },
    "tags": []
   },
   "outputs": [
    {
     "name": "stdout",
     "output_type": "stream",
     "text": [
      "09:27:16\n",
      "Epoch: 1, Train loss: 711.34, Valid loss: 769.81\n",
      "Epoch: 2, Train loss: 662.42, Valid loss: 802.92\n",
      "Epoch: 3, Train loss: 659.67, Valid loss: 783.70\n",
      "Epoch: 4, Train loss: 655.28, Valid loss: 771.93\n",
      "Epoch: 5, Train loss: 654.79, Valid loss: 768.26\n",
      "Epoch: 6, Train loss: 656.59, Valid loss: 790.24\n",
      "Epoch: 7, Train loss: 657.49, Valid loss: 770.27\n",
      "Epoch: 8, Train loss: 659.03, Valid loss: 775.30\n",
      "Epoch: 9, Train loss: 659.72, Valid loss: 768.69\n",
      "Epoch: 10, Train loss: 659.59, Valid loss: 776.33\n",
      "Epoch: 11, Train loss: 659.30, Valid loss: 761.11\n",
      "Epoch: 12, Train loss: 660.21, Valid loss: 780.18\n",
      "Epoch: 13, Train loss: 659.54, Valid loss: 795.15\n",
      "Epoch: 14, Train loss: 659.88, Valid loss: 789.95\n",
      "Epoch: 15, Train loss: 659.14, Valid loss: 755.89\n",
      "09:31:51\n"
     ]
    }
   ],
   "source": [
    "torch.manual_seed(2022)\n",
    "\n",
    "model = NNStacker(input_size=6_001, output_size=3_000)\n",
    "model.to(device);\n",
    "\n",
    "criterion = nn.MSELoss()\n",
    "optimizer = optim.Adam(model.parameters(), lr=1e-3, weight_decay=2e-5)\n",
    "\n",
    "print(time.strftime(\"%H:%M:%S\", time.localtime()))\n",
    "trainer(model, criterion, optimizer, train_dataloader, valid_dataloader, verbose=True)\n",
    "print(time.strftime(\"%H:%M:%S\", time.localtime()))"
   ]
  },
  {
   "cell_type": "code",
   "execution_count": 8,
   "id": "0cef39cf",
   "metadata": {
    "execution": {
     "iopub.execute_input": "2022-02-07T09:31:51.548726Z",
     "iopub.status.busy": "2022-02-07T09:31:51.547738Z",
     "iopub.status.idle": "2022-02-07T09:31:52.453080Z",
     "shell.execute_reply": "2022-02-07T09:31:52.453584Z",
     "shell.execute_reply.started": "2022-02-07T09:21:51.425725Z"
    },
    "papermill": {
     "duration": 0.92193,
     "end_time": "2022-02-07T09:31:52.453727",
     "exception": false,
     "start_time": "2022-02-07T09:31:51.531797",
     "status": "completed"
    },
    "tags": []
   },
   "outputs": [
    {
     "name": "stdout",
     "output_type": "stream",
     "text": [
      "27.493529017068873\n"
     ]
    }
   ],
   "source": [
    "y_hat = model(torch.Tensor(X_test).to(device))\n",
    "y_hat = y_hat.cpu().detach().numpy()\n",
    "\n",
    "rmse = np.sqrt(np.mean((y_test - y_hat)**2))\n",
    "print(rmse)"
   ]
  },
  {
   "cell_type": "code",
   "execution_count": 9,
   "id": "00ef3a9a",
   "metadata": {
    "execution": {
     "iopub.execute_input": "2022-02-07T09:31:52.489514Z",
     "iopub.status.busy": "2022-02-07T09:31:52.479429Z",
     "iopub.status.idle": "2022-02-07T09:31:53.946257Z",
     "shell.execute_reply": "2022-02-07T09:31:53.946696Z",
     "shell.execute_reply.started": "2022-02-07T09:21:52.193318Z"
    },
    "papermill": {
     "duration": 1.481463,
     "end_time": "2022-02-07T09:31:53.946846",
     "exception": false,
     "start_time": "2022-02-07T09:31:52.465383",
     "status": "completed"
    },
    "tags": []
   },
   "outputs": [
    {
     "data": {
      "image/png": "[encoded data removed]",
      "text/plain": [
       "<Figure size 432x288 with 2 Axes>"
      ]
     },
     "metadata": {
      "needs_background": "light"
     },
     "output_type": "display_data"
    }
   ],
   "source": [
    "good_examples = 0\n",
    "bad_examples = 0\n",
    "\n",
    "ax_good = plt.subplot(121)\n",
    "ax_bad = plt.subplot(122)\n",
    "\n",
    "for X, y in valid_dataloader:\n",
    "    X, y = X.to(device), y.to(device)\n",
    "    prediction = model(X)\n",
    "\n",
    "    y = y.cpu().detach().numpy()\n",
    "    prediction = prediction.cpu().detach().numpy()\n",
    "    \n",
    "    while good_examples < 30 and bad_examples < 30:\n",
    "        for i in range(X.shape[0]):\n",
    "            rmse = np.sqrt(np.mean((prediction[i, :] - y[i, :])**2))\n",
    "            if rmse < 5:\n",
    "                good_examples += 1\n",
    "                ax_good.plot(y[i, :1000], y[i, 1000:2000], color=\"r\")\n",
    "                ax_good.plot(prediction[i, :1000], prediction[i, 1000:2000], color=\"b\")\n",
    "            if rmse > 30:\n",
    "                bad_examples += 1\n",
    "                ax_bad.plot(y[i, :1000], y[i, 1000:2000], color=\"r\")\n",
    "                ax_bad.plot(prediction[i, :1000], prediction[i, 1000:2000], color=\"b\")\n",
    "\n",
    "ax_good.title.set_text(\"Good predictions\")\n",
    "ax_bad.title.set_text(\"Bad predictions\")\n",
    "ax_good.set_xlim([-150, 150])\n",
    "ax_good.set_ylim([-100, 100])\n",
    "ax_bad.set_xlim([-150, 150])\n",
    "ax_bad.set_ylim([-100, 100])\n",
    "plt.show()"
   ]
  }
 ],
 "metadata": {
  "kernelspec": {
   "display_name": "Python 3",
   "language": "python",
   "name": "python3"
  },
  "language_info": {
   "codemirror_mode": {
    "name": "ipython",
    "version": 3
   },
   "file_extension": ".py",
   "mimetype": "text/x-python",
   "name": "python",
   "nbconvert_exporter": "python",
   "pygments_lexer": "ipython3",
   "version": "3.7.12"
  },
  "papermill": {
   "default_parameters": {},
   "duration": 315.89122,
   "end_time": "2022-02-07T09:31:55.472387",
   "environment_variables": {},
   "exception": null,
   "input_path": "__notebook__.ipynb",
   "output_path": "__notebook__.ipynb",
   "parameters": {},
   "start_time": "2022-02-07T09:26:39.581167",
   "version": "2.3.3"
  }
 },
 "nbformat": 4,
 "nbformat_minor": 5
}
