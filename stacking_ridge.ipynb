{
 "cells": [
  {
   "cell_type": "code",
   "execution_count": 1,
   "id": "29be4518-8fa7-4585-bbac-0f3f2235c20c",
   "metadata": {},
   "outputs": [],
   "source": [
    "import numpy as np\n",
    "import pandas as pd\n",
    "import pickle\n",
    "import matplotlib.pyplot as plt\n",
    "\n",
    "import torch\n",
    "from torch import nn, optim\n",
    "from torchvision import transforms, utils\n",
    "from torch.utils.data import TensorDataset, DataLoader\n",
    "import time\n",
    "\n",
    "from sklearn.linear_model import LogisticRegression\n",
    "from sklearn.model_selection import (\n",
    "    train_test_split,\n",
    "    cross_validate,\n",
    "    RandomizedSearchCV\n",
    ")\n",
    "from sklearn.pipeline import Pipeline, make_pipeline\n",
    "from sklearn.preprocessing import StandardScaler\n",
    "from sklearn.multiclass import OneVsOneClassifier\n",
    "from sklearn.linear_model import Ridge\n",
    "from sklearn.ensemble import RandomForestRegressor\n",
    "from scipy.stats import loguniform, randint\n",
    "\n",
    "%matplotlib inline"
   ]
  },
  {
   "cell_type": "code",
   "execution_count": 2,
   "id": "8920a38b-1e77-4f6a-8046-b0eb2b1e5139",
   "metadata": {},
   "outputs": [],
   "source": [
    "def mean_std_cross_val_scores(model, X_train, y_train, **kwargs):\n",
    "    \"\"\"\n",
    "    Returns mean and std of cross validation\n",
    "    Parameters\n",
    "    ----------\n",
    "    model :\n",
    "        scikit-learn model\n",
    "    X_train : numpy array or pandas DataFrame\n",
    "        X in the training data\n",
    "    y_train :\n",
    "        y in the training data\n",
    "    Returns\n",
    "    ----------\n",
    "        pandas Series with mean scores from cross_validation\n",
    "    \"\"\"\n",
    "    scores = cross_validate(model, X_train, y_train, **kwargs)\n",
    "    mean_scores = pd.DataFrame(scores).mean()\n",
    "    std_scores = pd.DataFrame(scores).std()\n",
    "    out_col = []\n",
    "    for i in range(len(mean_scores)):\n",
    "        out_col.append(\n",
    "            (f\"%0.3f (+/- %0.3f)\" % (mean_scores[i], std_scores[i]))\n",
    "        )\n",
    "    return pd.Series(data=out_col, index=mean_scores.index)"
   ]
  },
  {
   "cell_type": "code",
   "execution_count": 3,
   "id": "9a0e8888-2b7e-45e2-8fd2-0374deaf69a5",
   "metadata": {},
   "outputs": [],
   "source": [
    "with open(\"data/processed/training_arm.pickle\", \"rb\") as f:\n",
    "    training_arm = pickle.load(f)\n",
    "\n",
    "with open(\"data/processed/output_models.pickle\", \"rb\") as f:\n",
    "    output_models = pickle.load(f)"
   ]
  },
  {
   "cell_type": "code",
   "execution_count": 4,
   "id": "01c70da9-6091-4477-887d-e98fd0d41834",
   "metadata": {},
   "outputs": [
    {
     "name": "stdout",
     "output_type": "stream",
     "text": [
      "(28000, 6001)\n",
      "(28000, 3000)\n"
     ]
    }
   ],
   "source": [
    "X_train, X_test, y_train, y_test = train_test_split(\n",
    "    output_models, training_arm,\n",
    "    test_size=0.3, random_state=2022\n",
    ")\n",
    "\n",
    "print(X_train.shape)\n",
    "print(y_train.shape)"
   ]
  },
  {
   "cell_type": "code",
   "execution_count": 5,
   "id": "28c68d7f-a4dd-4919-8206-c4b4f83d363f",
   "metadata": {},
   "outputs": [
    {
     "data": {
      "text/plain": [
       "Ridge(alpha=10.0)"
      ]
     },
     "execution_count": 5,
     "metadata": {},
     "output_type": "execute_result"
    }
   ],
   "source": [
    "final_model = Ridge(alpha=10.0)\n",
    "final_model.fit(X_train, y_train)"
   ]
  },
  {
   "cell_type": "code",
   "execution_count": 6,
   "id": "d74460d9-5c6e-447b-b084-1174ea3b8bca",
   "metadata": {},
   "outputs": [],
   "source": [
    "# # There are ~5,000 observations for each reaching angle\n",
    "# # After train-test splitting, this would be around 3500\n",
    "# # in the train set. Using this prior knowledge, we can\n",
    "# # set the min_samples_split to be in the same order as \n",
    "# # 3500.\n",
    "# final_model = RandomForestRegressor(\n",
    "#     n_jobs=-1,\n",
    "#     n_estimators=50,\n",
    "#     min_samples_split=1_000\n",
    "# )\n",
    "# final_model.fit(X_train, y_train)"
   ]
  },
  {
   "cell_type": "code",
   "execution_count": 7,
   "id": "928122e1-9901-4c6e-b5e0-c9a42f7b04ee",
   "metadata": {},
   "outputs": [
    {
     "name": "stdout",
     "output_type": "stream",
     "text": [
      "25.16041556439691\n"
     ]
    }
   ],
   "source": [
    "# Train score\n",
    "train_prediction = final_model.predict(X_train)\n",
    "train_rmse = np.sqrt(np.mean((y_train - train_prediction)**2))\n",
    "print(train_rmse)"
   ]
  },
  {
   "cell_type": "code",
   "execution_count": 8,
   "id": "504c73c4-4905-4d31-98ce-458567a556c5",
   "metadata": {},
   "outputs": [
    {
     "name": "stdout",
     "output_type": "stream",
     "text": [
      "27.81000715663491\n"
     ]
    }
   ],
   "source": [
    "# Test score\n",
    "prediction = final_model.predict(X_test)\n",
    "rmse = np.sqrt(np.mean((y_test - prediction)**2))\n",
    "print(rmse)"
   ]
  },
  {
   "cell_type": "code",
   "execution_count": 9,
   "id": "5b3dea53-57e3-43bd-8e2f-e24cd6008625",
   "metadata": {},
   "outputs": [
    {
     "data": {
      "image/png": "[encoded data removed]",
      "text/plain": [
       "<Figure size 432x288 with 2 Axes>"
      ]
     },
     "metadata": {
      "needs_background": "light"
     },
     "output_type": "display_data"
    }
   ],
   "source": [
    "good_examples = 0\n",
    "bad_examples = 0\n",
    "\n",
    "ax_good = plt.subplot(121)\n",
    "ax_bad = plt.subplot(122)\n",
    "\n",
    "for idx in range(X_test.shape[0]):\n",
    "    if good_examples < 30 and bad_examples < 30:\n",
    "        sample_X = np.reshape(X_test[idx, :], (1, X_train.shape[1]))\n",
    "        sample_y = y_test[idx, :]\n",
    "        pred = final_model.predict(sample_X)\n",
    "        rmse = np.sqrt(np.mean((pred - sample_y)**2))\n",
    "        if rmse < 5:\n",
    "            good_examples += 1\n",
    "            ax_good.plot(sample_y[:1000], sample_y[1000:2000], color=\"r\")\n",
    "            ax_good.plot(pred[0, :1000], pred[0, 1000:2000], color=\"b\")\n",
    "        if rmse > 30:\n",
    "            bad_examples += 1\n",
    "            ax_bad.plot(sample_y[:1000], sample_y[1000:2000], color=\"r\")\n",
    "            ax_bad.plot(pred[0, :1000], pred[0, 1000:2000], color=\"b\")\n",
    "\n",
    "ax_good.title.set_text(\"Good predictions\")\n",
    "ax_bad.title.set_text(\"Bad predictions\")\n",
    "ax_good.set_xlim([-150, 150])\n",
    "ax_good.set_ylim([-100, 100])\n",
    "ax_bad.set_xlim([-150, 150])\n",
    "ax_bad.set_ylim([-100, 100])\n",
    "plt.show()"
   ]
  },
  {
   "cell_type": "code",
   "execution_count": null,
   "id": "2dac8762-38d3-4229-ae19-1bb873155126",
   "metadata": {},
   "outputs": [],
   "source": []
  }
 ],
 "metadata": {
  "kernelspec": {
   "display_name": "Python [conda env:monkey_dec]",
   "language": "python",
   "name": "conda-env-monkey_dec-py"
  },
  "language_info": {
   "codemirror_mode": {
    "name": "ipython",
    "version": 3
   },
   "file_extension": ".py",
   "mimetype": "text/x-python",
   "name": "python",
   "nbconvert_exporter": "python",
   "pygments_lexer": "ipython3",
   "version": "3.9.10"
  }
 },
 "nbformat": 4,
 "nbformat_minor": 5
}
